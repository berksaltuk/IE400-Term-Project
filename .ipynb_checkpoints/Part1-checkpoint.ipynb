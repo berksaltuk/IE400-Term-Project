{
 "cells": [
  {
   "cell_type": "code",
   "execution_count": 7,
   "id": "00e2fb7a",
   "metadata": {},
   "outputs": [],
   "source": [
    "from gurobipy import *\n",
    "\n",
    "import numpy as np"
   ]
  },
  {
   "cell_type": "code",
   "execution_count": 8,
   "id": "6e0aeba2",
   "metadata": {},
   "outputs": [],
   "source": [
    "node_no = {\n",
    "    'A':0, 'B':1, 'C':2, 'D':3, 'E':4, 'F':5, 'G':6, 'H':7\n",
    "}"
   ]
  },
  {
   "cell_type": "code",
   "execution_count": 9,
   "id": "df4e1e29",
   "metadata": {},
   "outputs": [
    {
     "data": {
      "text/plain": [
       "[[0.0, 1.0, 2.0, 1.0, 1.0, 2.0, 2.0, 1.0, 3.0, 1.0],\n",
       " [1.0, 0.0, 1.0, 1.0, 2.0, 3.0, 1.0, 3.0, 1.0, 3.0],\n",
       " [2.0, 1.0, 0.0, 1.0, 2.0, 2.0, 3.0, 2.0, 3.0, 2.0],\n",
       " [1.0, 1.0, 1.0, 0.0, 1.0, 2.0, 1.0, 2.0, 2.0, 1.0],\n",
       " [1.0, 2.0, 2.0, 1.0, 0.0, 1.0, 3.0, 2.0, 2.0, 3.0],\n",
       " [2.0, 3.0, 2.0, 2.0, 1.0, 0.0, 1.0, 2.0, 2.0, 3.0],\n",
       " [2.0, 1.0, 3.0, 1.0, 3.0, 1.0, 0.0, 1.0, 3.0, 3.0],\n",
       " [1.0, 3.0, 2.0, 2.0, 2.0, 2.0, 1.0, 0.0, 1.0, 1.0],\n",
       " [3.0, 1.0, 3.0, 2.0, 2.0, 2.0, 3.0, 1.0, 0.0, 1.0],\n",
       " [1.0, 3.0, 2.0, 1.0, 3.0, 3.0, 3.0, 1.0, 1.0, 0.0]]"
      ]
     },
     "execution_count": 9,
     "metadata": {},
     "output_type": "execute_result"
    }
   ],
   "source": [
    "with open('distances.txt', 'r') as file:\n",
    "    distances = [list(map(float, line.split())) for line in file]\n",
    "distances"
   ]
  },
  {
   "cell_type": "code",
   "execution_count": 27,
   "id": "6095c729",
   "metadata": {},
   "outputs": [
    {
     "data": {
      "text/plain": [
       "[{'total_dist': 7.0, 'start': 0, 'end': 1},\n",
       " {'total_dist': 3.0, 'start': 1, 'end': 0},\n",
       " {'total_dist': 4.0, 'start': 2, 'end': 3},\n",
       " {'total_dist': 9.0, 'start': 3, 'end': 2},\n",
       " {'total_dist': 3.0, 'start': 4, 'end': 2},\n",
       " {'total_dist': 2.0, 'start': 7, 'end': 5},\n",
       " {'total_dist': 5.0, 'start': 0, 'end': 4},\n",
       " {'total_dist': 5.0, 'start': 1, 'end': 2},\n",
       " {'total_dist': 4.0, 'start': 2, 'end': 7},\n",
       " {'total_dist': 9.0, 'start': 5, 'end': 4},\n",
       " {'total_dist': 2.0, 'start': 0, 'end': 2},\n",
       " {'total_dist': 2.0, 'start': 0, 'end': 5},\n",
       " {'total_dist': 5.0, 'start': 1, 'end': 3},\n",
       " {'total_dist': 5.0, 'start': 6, 'end': 4},\n",
       " {'total_dist': 2.0, 'start': 1, 'end': 6}]"
      ]
     },
     "execution_count": 27,
     "metadata": {},
     "output_type": "execute_result"
    }
   ],
   "source": [
    "paths = []\n",
    "with open('paths.txt', 'r') as file:\n",
    "    for line in file:\n",
    "        path = line.strip().split(': ')[1].split('-')\n",
    "        start = node_no[path[0]]\n",
    "        end = node_no[path[-1]]\n",
    "        total_dist = 0\n",
    "        for el in range(len(path)-1):\n",
    "            dest = path[el + 1]\n",
    "            source = path[el] \n",
    "            total_dist += distances[node_no[source]][node_no[dest]]\n",
    "        paths.append({'total_dist':total_dist, 'start':start, 'end': end})\n",
    "        \n",
    "paths"
   ]
  },
  {
   "cell_type": "code",
   "execution_count": 17,
   "id": "948a5ea8",
   "metadata": {},
   "outputs": [
    {
     "data": {
      "text/plain": [
       "[['1', '1', '1', '2', '3', '2', '1', '1'],\n",
       " ['3', '2', '1', '1', '1', '1', '1', '2']]"
      ]
     },
     "execution_count": 17,
     "metadata": {},
     "output_type": "execute_result"
    }
   ],
   "source": [
    "distances_to_depots = []\n",
    "with open('depot_node_distances.txt', 'r') as file:\n",
    "    for line in file:\n",
    "        distances_to_depots.append(line.strip().split(': ')[1].split('-'))\n",
    "\n",
    "distances_to_depots        "
   ]
  },
  {
   "cell_type": "code",
   "execution_count": 21,
   "id": "463a8d63",
   "metadata": {},
   "outputs": [],
   "source": [
    "depot_no = {\n",
    "    'X':0, 'Y':1\n",
    "}"
   ]
  },
  {
   "cell_type": "code",
   "execution_count": 31,
   "id": "7320b2d8",
   "metadata": {},
   "outputs": [
    {
     "name": "stdout",
     "output_type": "stream",
     "text": [
      "Gurobi Optimizer version 11.0.0 build v11.0.0rc2 (mac64[arm] - Darwin 22.4.0 22E252)\n",
      "\n",
      "CPU model: Apple M2 Pro\n",
      "Thread count: 10 physical cores, 10 logical processors, using up to 10 threads\n",
      "\n",
      "Optimize a model with 33 rows, 240 columns and 720 nonzeros\n",
      "Model fingerprint: 0x90052fb5\n",
      "Variable types: 0 continuous, 240 integer (240 binary)\n",
      "Coefficient statistics:\n",
      "  Matrix range     [1e+00, 1e+00]\n",
      "  Objective range  [2e+00, 5e+00]\n",
      "  Bounds range     [1e+00, 1e+00]\n",
      "  RHS range        [1e+00, 5e+00]\n",
      "Found heuristic solution: objective 47.0000000\n",
      "Presolve time: 0.00s\n",
      "Presolved: 33 rows, 240 columns, 720 nonzeros\n",
      "Variable types: 0 continuous, 240 integer (240 binary)\n",
      "Found heuristic solution: objective 35.0000000\n",
      "\n",
      "Root relaxation: cutoff, 24 iterations, 0.00 seconds (0.00 work units)\n",
      "\n",
      "    Nodes    |    Current Node    |     Objective Bounds      |     Work\n",
      " Expl Unexpl |  Obj  Depth IntInf | Incumbent    BestBd   Gap | It/Node Time\n",
      "\n",
      "     0     0     cutoff    0        35.00000   35.00000  0.00%     -    0s\n",
      "\n",
      "Explored 1 nodes (24 simplex iterations) in 0.01 seconds (0.00 work units)\n",
      "Thread count was 10 (of 10 available processors)\n",
      "\n",
      "Solution count 2: 35 47 \n",
      "\n",
      "Optimal solution found (tolerance 1.00e-04)\n",
      "Best objective 3.500000000000e+01, best bound 3.500000000000e+01, gap 0.0000%\n"
     ]
    }
   ],
   "source": [
    "X = {}\n",
    "model = Model('Part1_model')\n",
    "\n",
    "for i in range(1,16):\n",
    "    for j in ['X','Y']:\n",
    "        for k in range(1,9):\n",
    "            X[i,j,k] = model.addVar(vtype = GRB.BINARY,name=f'x_{i}_{j}_{k}')\n",
    "\n",
    "#Constraints\n",
    "#Trains assigned to deport j starts from node k\n",
    "for i in range(1,16):\n",
    "    model.addConstr(quicksum(X[i,j,k] for k in range(1,9) for j in ['X','Y']) == 1)\n",
    "     \n",
    "        \n",
    "#A route cannot be used more than 3 trains\n",
    "for j in ['X','Y']:\n",
    "    for k in range(1,9):\n",
    "        model.addConstr(quicksum(X[i,j,k] for i in range(1,16)) <= 3)\n",
    "        \n",
    "#Each depot shpuld have at least 5 trains assigned to it\n",
    "for j in ['X','Y']:\n",
    "    model.addConstr(quicksum(X[i,j,k] for k in range(1,9) for i in range(1,16)) >= 5)\n",
    "        \n",
    "#Every train should have only one starting node\n",
    "#for k in range(1,9):\n",
    "#    model.addConstr(quicksum(X[i,j,k] for i in range(1,16) for j in ['X','Y']) == 1)\n",
    "\n",
    "\n",
    "objective_func = quicksum(X[i,j,k]*distances_to_depots[depot_no[j]][paths[i-1]['start']] + \n",
    "                          X[i,j,k]*distances_to_depots[depot_no[j]][paths[i-1]['end']] \n",
    "                          for i in range(1,16) for j in ['X', 'Y'] for k in range(1, 9))\n",
    "model.setObjective(objective_func, GRB.MINIMIZE)\n",
    "\n",
    "model.optimize()"
   ]
  },
  {
   "cell_type": "code",
   "execution_count": 32,
   "id": "949bcd03",
   "metadata": {},
   "outputs": [
    {
     "name": "stdout",
     "output_type": "stream",
     "text": [
      "Depot X assigned trains: [1, 11, 15, 2, 9, 12, 8, 13]\n",
      "Depot Y assigned trains: [6, 7, 10, 14, 4, 5, 3]\n"
     ]
    }
   ],
   "source": [
    "for j in ['X', 'Y']:\n",
    "    assigned_trains = [i for k in range(1, 9) for i in range(1, 16) if X[i, j, k].X > 0.5]\n",
    "    print(f\"Depot {j} assigned trains: {assigned_trains}\")"
   ]
  },
  {
   "cell_type": "code",
   "execution_count": null,
   "id": "ea1d0e48",
   "metadata": {},
   "outputs": [],
   "source": []
  }
 ],
 "metadata": {
  "kernelspec": {
   "display_name": "Python 3 (ipykernel)",
   "language": "python",
   "name": "python3"
  },
  "language_info": {
   "codemirror_mode": {
    "name": "ipython",
    "version": 3
   },
   "file_extension": ".py",
   "mimetype": "text/x-python",
   "name": "python",
   "nbconvert_exporter": "python",
   "pygments_lexer": "ipython3",
   "version": "3.11.5"
  }
 },
 "nbformat": 4,
 "nbformat_minor": 5
}

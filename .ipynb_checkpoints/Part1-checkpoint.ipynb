{
 "cells": [
  {
   "cell_type": "code",
   "execution_count": 2,
   "id": "00e2fb7a",
   "metadata": {},
   "outputs": [],
   "source": [
    "from gurobipy import *\n",
    "\n",
    "import numpy as np"
   ]
  },
  {
   "cell_type": "code",
   "execution_count": 3,
   "id": "6e0aeba2",
   "metadata": {},
   "outputs": [],
   "source": [
    "node_no = {\n",
    "    'A':0, 'B':1, 'C':2, 'D':3, 'E':4, 'F':5, 'G':6, 'H':7\n",
    "}"
   ]
  },
  {
   "cell_type": "code",
   "execution_count": 4,
   "id": "df4e1e29",
   "metadata": {},
   "outputs": [
    {
     "data": {
      "text/plain": [
       "[[0.0, 1.0, 2.0, 1.0, 1.0, 2.0, 2.0, 1.0],\n",
       " [1.0, 0.0, 1.0, 1.0, 2.0, 3.0, 1.0, 3.0],\n",
       " [2.0, 1.0, 0.0, 1.0, 2.0, 2.0, 3.0, 2.0],\n",
       " [1.0, 1.0, 1.0, 0.0, 1.0, 2.0, 1.0, 2.0],\n",
       " [1.0, 2.0, 2.0, 1.0, 0.0, 1.0, 3.0, 2.0],\n",
       " [2.0, 3.0, 2.0, 2.0, 1.0, 0.0, 1.0, 2.0],\n",
       " [2.0, 1.0, 3.0, 1.0, 3.0, 1.0, 0.0, 1.0],\n",
       " [1.0, 3.0, 2.0, 2.0, 2.0, 2.0, 1.0, 0.0]]"
      ]
     },
     "execution_count": 4,
     "metadata": {},
     "output_type": "execute_result"
    }
   ],
   "source": [
    "with open('distances.txt', 'r') as file:\n",
    "    distances = [list(map(float, line.split())) for line in file]\n",
    "distances"
   ]
  },
  {
   "cell_type": "code",
   "execution_count": 5,
   "id": "6095c729",
   "metadata": {},
   "outputs": [
    {
     "data": {
      "text/plain": [
       "[{'total_dist': 7.0, 'start': 0, 'end': 1},\n",
       " {'total_dist': 3.0, 'start': 1, 'end': 0},\n",
       " {'total_dist': 4.0, 'start': 2, 'end': 3},\n",
       " {'total_dist': 9.0, 'start': 3, 'end': 2},\n",
       " {'total_dist': 3.0, 'start': 4, 'end': 2},\n",
       " {'total_dist': 2.0, 'start': 7, 'end': 5},\n",
       " {'total_dist': 5.0, 'start': 0, 'end': 4},\n",
       " {'total_dist': 5.0, 'start': 1, 'end': 2},\n",
       " {'total_dist': 4.0, 'start': 2, 'end': 7},\n",
       " {'total_dist': 9.0, 'start': 5, 'end': 4},\n",
       " {'total_dist': 2.0, 'start': 0, 'end': 2},\n",
       " {'total_dist': 2.0, 'start': 0, 'end': 5},\n",
       " {'total_dist': 5.0, 'start': 1, 'end': 3},\n",
       " {'total_dist': 5.0, 'start': 6, 'end': 4},\n",
       " {'total_dist': 2.0, 'start': 1, 'end': 6}]"
      ]
     },
     "execution_count": 5,
     "metadata": {},
     "output_type": "execute_result"
    }
   ],
   "source": [
    "paths = []\n",
    "with open('paths.txt', 'r') as file:\n",
    "    for line in file:\n",
    "        path = line.strip().split(': ')[1].split('-')\n",
    "        start = node_no[path[0]]\n",
    "        end = node_no[path[-1]]\n",
    "        total_dist = 0\n",
    "        for el in range(len(path)-1):\n",
    "            dest = path[el + 1]\n",
    "            source = path[el] \n",
    "            total_dist += distances[node_no[source]][node_no[dest]]\n",
    "        paths.append({'total_dist':total_dist, 'start':start, 'end': end})\n",
    "        \n",
    "paths"
   ]
  },
  {
   "cell_type": "code",
   "execution_count": 6,
   "id": "d70f6208",
   "metadata": {},
   "outputs": [
    {
     "data": {
      "text/plain": [
       "{(0, 0): 1,\n",
       " (0, 1): 0,\n",
       " (0, 2): 0,\n",
       " (0, 3): 0,\n",
       " (0, 4): 0,\n",
       " (0, 5): 0,\n",
       " (0, 6): 0,\n",
       " (0, 7): 0,\n",
       " (1, 0): 0,\n",
       " (1, 1): 1,\n",
       " (1, 2): 0,\n",
       " (1, 3): 0,\n",
       " (1, 4): 0,\n",
       " (1, 5): 0,\n",
       " (1, 6): 0,\n",
       " (1, 7): 0,\n",
       " (2, 0): 0,\n",
       " (2, 1): 0,\n",
       " (2, 2): 1,\n",
       " (2, 3): 0,\n",
       " (2, 4): 0,\n",
       " (2, 5): 0,\n",
       " (2, 6): 0,\n",
       " (2, 7): 0,\n",
       " (3, 0): 0,\n",
       " (3, 1): 0,\n",
       " (3, 2): 0,\n",
       " (3, 3): 1,\n",
       " (3, 4): 0,\n",
       " (3, 5): 0,\n",
       " (3, 6): 0,\n",
       " (3, 7): 0,\n",
       " (4, 0): 0,\n",
       " (4, 1): 0,\n",
       " (4, 2): 0,\n",
       " (4, 3): 0,\n",
       " (4, 4): 1,\n",
       " (4, 5): 0,\n",
       " (4, 6): 0,\n",
       " (4, 7): 0,\n",
       " (5, 0): 0,\n",
       " (5, 1): 0,\n",
       " (5, 2): 0,\n",
       " (5, 3): 0,\n",
       " (5, 4): 0,\n",
       " (5, 5): 0,\n",
       " (5, 6): 0,\n",
       " (5, 7): 1,\n",
       " (6, 0): 1,\n",
       " (6, 1): 0,\n",
       " (6, 2): 0,\n",
       " (6, 3): 0,\n",
       " (6, 4): 0,\n",
       " (6, 5): 0,\n",
       " (6, 6): 0,\n",
       " (6, 7): 0,\n",
       " (7, 0): 0,\n",
       " (7, 1): 1,\n",
       " (7, 2): 0,\n",
       " (7, 3): 0,\n",
       " (7, 4): 0,\n",
       " (7, 5): 0,\n",
       " (7, 6): 0,\n",
       " (7, 7): 0,\n",
       " (8, 0): 0,\n",
       " (8, 1): 0,\n",
       " (8, 2): 1,\n",
       " (8, 3): 0,\n",
       " (8, 4): 0,\n",
       " (8, 5): 0,\n",
       " (8, 6): 0,\n",
       " (8, 7): 0,\n",
       " (9, 0): 0,\n",
       " (9, 1): 0,\n",
       " (9, 2): 0,\n",
       " (9, 3): 0,\n",
       " (9, 4): 0,\n",
       " (9, 5): 1,\n",
       " (9, 6): 0,\n",
       " (9, 7): 0,\n",
       " (10, 0): 1,\n",
       " (10, 1): 0,\n",
       " (10, 2): 0,\n",
       " (10, 3): 0,\n",
       " (10, 4): 0,\n",
       " (10, 5): 0,\n",
       " (10, 6): 0,\n",
       " (10, 7): 0,\n",
       " (11, 0): 1,\n",
       " (11, 1): 0,\n",
       " (11, 2): 0,\n",
       " (11, 3): 0,\n",
       " (11, 4): 0,\n",
       " (11, 5): 0,\n",
       " (11, 6): 0,\n",
       " (11, 7): 0,\n",
       " (12, 0): 0,\n",
       " (12, 1): 1,\n",
       " (12, 2): 0,\n",
       " (12, 3): 0,\n",
       " (12, 4): 0,\n",
       " (12, 5): 0,\n",
       " (12, 6): 0,\n",
       " (12, 7): 0,\n",
       " (13, 0): 0,\n",
       " (13, 1): 0,\n",
       " (13, 2): 0,\n",
       " (13, 3): 0,\n",
       " (13, 4): 0,\n",
       " (13, 5): 0,\n",
       " (13, 6): 1,\n",
       " (13, 7): 0,\n",
       " (14, 0): 0,\n",
       " (14, 1): 1,\n",
       " (14, 2): 0,\n",
       " (14, 3): 0,\n",
       " (14, 4): 0,\n",
       " (14, 5): 0,\n",
       " (14, 6): 0,\n",
       " (14, 7): 0}"
      ]
     },
     "execution_count": 6,
     "metadata": {},
     "output_type": "execute_result"
    }
   ],
   "source": [
    "starts_with = {}\n",
    "for i in range(15):\n",
    "    for j in range(8):\n",
    "        starts_with[i, j] = 1 if paths[i]['start'] == j else 0\n",
    "starts_with"
   ]
  },
  {
   "cell_type": "code",
   "execution_count": 7,
   "id": "fc4a4462",
   "metadata": {},
   "outputs": [
    {
     "data": {
      "text/plain": [
       "[[1, 1, 1, 2, 3, 2, 1, 1], [3, 2, 1, 1, 1, 1, 1, 2]]"
      ]
     },
     "execution_count": 7,
     "metadata": {},
     "output_type": "execute_result"
    }
   ],
   "source": [
    "distances_to_depots = []\n",
    "with open('depot_node_distances.txt', 'r') as file:\n",
    "    for line in file:\n",
    "        distances_to_depots.append([int(x) for x in line.strip().split(': ')[1].split('-')])\n",
    "\n",
    "\n",
    "distances_to_depots\n"
   ]
  },
  {
   "cell_type": "code",
   "execution_count": 8,
   "id": "088fbf24",
   "metadata": {},
   "outputs": [],
   "source": [
    "depot_no = {\n",
    "    'X':0, 'Y':1\n",
    "}"
   ]
  },
  {
   "cell_type": "code",
   "execution_count": 9,
   "id": "2d1232e6",
   "metadata": {},
   "outputs": [
    {
     "data": {
      "text/plain": [
       "{(0, 0): 1,\n",
       " (0, 1): 1,\n",
       " (1, 0): 1,\n",
       " (1, 1): 0,\n",
       " (2, 0): 1,\n",
       " (2, 1): 1,\n",
       " (3, 0): 0,\n",
       " (3, 1): 1,\n",
       " (4, 0): 0,\n",
       " (4, 1): 1,\n",
       " (5, 0): 1,\n",
       " (5, 1): 1,\n",
       " (6, 0): 0,\n",
       " (6, 1): 0,\n",
       " (7, 0): 0,\n",
       " (7, 1): 0,\n",
       " (8, 0): 1,\n",
       " (8, 1): 1,\n",
       " (9, 0): 0,\n",
       " (9, 1): 1,\n",
       " (10, 0): 0,\n",
       " (10, 1): 0,\n",
       " (11, 0): 1,\n",
       " (11, 1): 0,\n",
       " (12, 0): 0,\n",
       " (12, 1): 0,\n",
       " (13, 0): 0,\n",
       " (13, 1): 0,\n",
       " (14, 0): 0,\n",
       " (14, 1): 1}"
      ]
     },
     "execution_count": 9,
     "metadata": {},
     "output_type": "execute_result"
    }
   ],
   "source": [
    "odd_even = {}\n",
    "\n",
    "for i in range(len(paths)):\n",
    "        for j in range(2):\n",
    "            time = 20\n",
    "            #for X depot\n",
    "            time -= distances_to_depots[j][paths[i]['start']]\n",
    "            tour = 0\n",
    "            while(time > paths[i]['total_dist']):\n",
    "                time -= paths[i]['total_dist']\n",
    "                tour += 1\n",
    "            if tour % 2 == 0: #even number of tours\n",
    "                time -= distances_to_depots[j][paths[i]['start']]\n",
    "                if time >= 0:\n",
    "                    #print(\"success! begin and end nodes are same for route\")\n",
    "                    odd_even[i, j] = 1\n",
    "                else:\n",
    "                    time += paths[i]['total_dist']\n",
    "                    tour -= 1\n",
    "                    odd_even[i, j] = 0\n",
    "\n",
    "                    #print(\"you need to take one less tour, sorry, ODDIZED\")\n",
    "            else: #odd number of tours\n",
    "                time -= distances_to_depots[j][paths[i]['end']]\n",
    "                if time >= 0:\n",
    "                    #print(\"success! begin and end nodes are not same for route\")\n",
    "                    odd_even[i, j] = 0\n",
    "                else:\n",
    "                    time = time + paths[i]['total_dist']\n",
    "                    tour -= 1\n",
    "                    odd_even[i, j] = 1\n",
    "                    #print(\"you need to take one less tour, sorry , EVENIZED\")\n",
    "            \n",
    "odd_even"
   ]
  },
  {
   "cell_type": "code",
   "execution_count": 17,
   "id": "d3c8f108",
   "metadata": {
    "scrolled": true
   },
   "outputs": [
    {
     "data": {
      "text/plain": [
       "\"X = {}\\nmodel = Model('Part1_model')\\n\\nfor i in range(1,16):\\n    for j in ['X','Y']:\\n        for k in range(1,9):\\n            X[i,j,k] = model.addVar(vtype = GRB.BINARY,name=f'x_{i}_{j}_{k}')\\n\\n#Constraints\\n#Trains assigned to deport j starts from node k\\nfor i in range(1,16):\\n    model.addConstr(quicksum(X[i,j,k] for k in range(1,9) for j in ['X','Y']) == 1)\\n     \\n        \\n#A route cannot be used more than 3 trains\\nfor j in ['X','Y']:\\n    for k in range(1,9):\\n        model.addConstr(quicksum(X[i,j,k] for i in range(1,16)) <= 3)\\n        \\n#Each depot shpuld have at least 5 trains assigned to it\\nfor j in ['X','Y']:\\n    model.addConstr(quicksum(X[i,j,k] for k in range(1,9) for i in range(1,16)) >= 5)\\n        \\n#Every train should have only one starting node\\n#for k in range(1,9):\\n#    model.addConstr(quicksum(X[i,j,k] for i in range(1,16) for j in ['X','Y']) == 1)\\n\\n\\nobjective_func = quicksum((1 + odd_even[i - 1, depot_no[j]]) * X[i,j,k] * distances_to_depots[depot_no[j]][paths[i-1]['start']] + \\n                          (1 - odd_even[i - 1, depot_no[j]]) * X[i,j,k] * distances_to_depots[depot_no[j]][paths[i-1]['end']] \\n                          for i in range(1,16) for j in ['X', 'Y'] for k in range(1, 9))\\nmodel.setObjective(objective_func, GRB.MINIMIZE)\\n\\nmodel.optimize()\""
      ]
     },
     "execution_count": 17,
     "metadata": {},
     "output_type": "execute_result"
    }
   ],
   "source": [
    "\"\"\"X = {}\n",
    "model = Model('Part1_model')\n",
    "\n",
    "for i in range(1,16):\n",
    "    for j in ['X','Y']:\n",
    "        for k in range(1,9):\n",
    "            X[i,j,k] = model.addVar(vtype = GRB.BINARY,name=f'x_{i}_{j}_{k}')\n",
    "\n",
    "#Constraints\n",
    "#Trains assigned to deport j starts from node k\n",
    "for i in range(1,16):\n",
    "    model.addConstr(quicksum(X[i,j,k] for k in range(1,9) for j in ['X','Y']) == 1)\n",
    "     \n",
    "        \n",
    "#A route cannot be used more than 3 trains\n",
    "for j in ['X','Y']:\n",
    "    for k in range(1,9):\n",
    "        model.addConstr(quicksum(X[i,j,k] for i in range(1,16)) <= 3)\n",
    "        \n",
    "#Each depot shpuld have at least 5 trains assigned to it\n",
    "for j in ['X','Y']:\n",
    "    model.addConstr(quicksum(X[i,j,k] for k in range(1,9) for i in range(1,16)) >= 5)\n",
    "        \n",
    "#Every train should have only one starting node\n",
    "#for k in range(1,9):\n",
    "#    model.addConstr(quicksum(X[i,j,k] for i in range(1,16) for j in ['X','Y']) == 1)\n",
    "\n",
    "\n",
    "objective_func = quicksum((1 + odd_even[i - 1, depot_no[j]]) * X[i,j,k] * distances_to_depots[depot_no[j]][paths[i-1]['start']] + \n",
    "                          (1 - odd_even[i - 1, depot_no[j]]) * X[i,j,k] * distances_to_depots[depot_no[j]][paths[i-1]['end']] \n",
    "                          for i in range(1,16) for j in ['X', 'Y'] for k in range(1, 9))\n",
    "model.setObjective(objective_func, GRB.MINIMIZE)\n",
    "\n",
    "model.optimize()\"\"\""
   ]
  },
  {
   "cell_type": "code",
   "execution_count": 15,
   "id": "0db9b6b2",
   "metadata": {},
   "outputs": [
    {
     "name": "stdout",
     "output_type": "stream",
     "text": [
      "Gurobi Optimizer version 11.0.0 build v11.0.0rc2 (mac64[arm] - Darwin 22.4.0 22E252)\n",
      "\n",
      "CPU model: Apple M2 Pro\n",
      "Thread count: 10 physical cores, 10 logical processors, using up to 10 threads\n",
      "\n",
      "Optimize a model with 33 rows, 30 columns and 90 nonzeros\n",
      "Model fingerprint: 0x5c5126fd\n",
      "Variable types: 0 continuous, 30 integer (30 binary)\n",
      "Coefficient statistics:\n",
      "  Matrix range     [1e+00, 1e+00]\n",
      "  Objective range  [2e+00, 6e+00]\n",
      "  Bounds range     [1e+00, 1e+00]\n",
      "  RHS range        [1e+00, 5e+00]\n",
      "Found heuristic solution: objective 48.0000000\n",
      "Presolve removed 27 rows and 18 columns\n",
      "Presolve time: 0.00s\n",
      "Presolved: 6 rows, 12 columns, 38 nonzeros\n",
      "Variable types: 0 continuous, 12 integer (9 binary)\n",
      "Found heuristic solution: objective 34.0000000\n",
      "\n",
      "Root relaxation: objective 3.300000e+01, 0 iterations, 0.00 seconds (0.00 work units)\n",
      "\n",
      "    Nodes    |    Current Node    |     Objective Bounds      |     Work\n",
      " Expl Unexpl |  Obj  Depth IntInf | Incumbent    BestBd   Gap | It/Node Time\n",
      "\n",
      "*    0     0               0      33.0000000   33.00000  0.00%     -    0s\n",
      "\n",
      "Explored 1 nodes (0 simplex iterations) in 0.01 seconds (0.00 work units)\n",
      "Thread count was 10 (of 10 available processors)\n",
      "\n",
      "Solution count 3: 33 34 48 \n",
      "\n",
      "Optimal solution found (tolerance 1.00e-04)\n",
      "Best objective 3.300000000000e+01, best bound 3.300000000000e+01, gap 0.0000%\n"
     ]
    }
   ],
   "source": [
    "X = {}\n",
    "model = Model('Part1_model')\n",
    "\n",
    "for i in range(1,16):\n",
    "    for j in ['X','Y']:\n",
    "            X[i,j] = model.addVar(vtype = GRB.BINARY,name=f'x_{i}_{j}')\n",
    "\n",
    "#Constraints\n",
    "#Trains assigned to deport j starts from node k\n",
    "for i in range(1,16):\n",
    "    model.addConstr(quicksum(X[i,j] for j in ['X','Y']) == 1)\n",
    "     \n",
    "# X -> A - max 3        \n",
    "#A route cannot be used more than 3 trains\n",
    "for j in ['X','Y']:\n",
    "    for k in range(0,8):\n",
    "        model.addConstr(quicksum(starts_with[i-1,k]*X[i,j] for i in range(1,16)) <= 3)\n",
    "        \n",
    "#Each depot shpuld have at least 5 trains assigned to it\n",
    "for j in ['X','Y']:\n",
    "    model.addConstr(quicksum(X[i,j] for i in range(1,16)) >= 5)\n",
    "        \n",
    "#Every train should have only one starting node\n",
    "#for k in range(1,9):\n",
    "#    model.addConstr(quicksum(X[i,j,k] for i in range(1,16) for j in ['X','Y']) == 1)\n",
    "\n",
    "\n",
    "objective_func = quicksum((1 + odd_even[i - 1, depot_no[j]]) * X[i,j] * distances_to_depots[depot_no[j]][paths[i-1]['start']] + \n",
    "                          (1 - odd_even[i - 1, depot_no[j]]) * X[i,j] * distances_to_depots[depot_no[j]][paths[i-1]['end']] \n",
    "                          for i in range(1,16) for j in ['X', 'Y'])\n",
    "model.setObjective(objective_func, GRB.MINIMIZE)\n",
    "\n",
    "model.optimize()"
   ]
  },
  {
   "cell_type": "code",
   "execution_count": 16,
   "id": "f20146cb",
   "metadata": {},
   "outputs": [
    {
     "name": "stdout",
     "output_type": "stream",
     "text": [
      "Depot X assigned trains: [1, 2, 6, 8, 9, 11, 12, 15]\n",
      "Depot Y assigned trains: [3, 4, 5, 7, 10, 13, 14]\n"
     ]
    }
   ],
   "source": [
    "for j in ['X', 'Y']:\n",
    "    assigned_trains = [i for i in range(1, 16) if X[i, j].X > 0.5]\n",
    "    print(f\"Depot {j} assigned trains: {assigned_trains}\")"
   ]
  },
  {
   "cell_type": "code",
   "execution_count": null,
   "id": "805f0a93",
   "metadata": {},
   "outputs": [],
   "source": []
  }
 ],
 "metadata": {
  "kernelspec": {
   "display_name": "Python 3 (ipykernel)",
   "language": "python",
   "name": "python3"
  },
  "language_info": {
   "codemirror_mode": {
    "name": "ipython",
    "version": 3
   },
   "file_extension": ".py",
   "mimetype": "text/x-python",
   "name": "python",
   "nbconvert_exporter": "python",
   "pygments_lexer": "ipython3",
   "version": "3.11.5"
  }
 },
 "nbformat": 4,
 "nbformat_minor": 5
}

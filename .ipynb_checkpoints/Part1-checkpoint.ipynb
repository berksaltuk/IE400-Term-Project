{
 "cells": [
  {
   "cell_type": "code",
   "execution_count": 14,
   "id": "00e2fb7a",
   "metadata": {},
   "outputs": [],
   "source": [
    "import gurobipy\n",
    "import numpy as np"
   ]
  },
  {
   "cell_type": "code",
   "execution_count": 15,
   "id": "6e0aeba2",
   "metadata": {},
   "outputs": [],
   "source": [
    "node_no = {\n",
    "    'A':0, 'B':1, 'C':2, 'D':3, 'E':4, 'F':5, 'G':6, 'H':7\n",
    "}"
   ]
  },
  {
   "cell_type": "code",
   "execution_count": 16,
   "id": "df4e1e29",
   "metadata": {},
   "outputs": [
    {
     "data": {
      "text/plain": [
       "[[0.0, 1.0, 2.0, 1.0, 1.0, 2.0, 2.0, 1.0, 3.0, 1.0],\n",
       " [1.0, 0.0, 1.0, 1.0, 2.0, 3.0, 1.0, 3.0, 1.0, 3.0],\n",
       " [2.0, 1.0, 0.0, 1.0, 2.0, 2.0, 3.0, 2.0, 3.0, 2.0],\n",
       " [1.0, 1.0, 1.0, 0.0, 1.0, 2.0, 1.0, 2.0, 2.0, 1.0],\n",
       " [1.0, 2.0, 2.0, 1.0, 0.0, 1.0, 3.0, 2.0, 2.0, 3.0],\n",
       " [2.0, 3.0, 2.0, 2.0, 1.0, 0.0, 1.0, 2.0, 2.0, 3.0],\n",
       " [2.0, 1.0, 3.0, 1.0, 3.0, 1.0, 0.0, 1.0, 3.0, 3.0],\n",
       " [1.0, 3.0, 2.0, 2.0, 2.0, 2.0, 1.0, 0.0, 1.0, 1.0],\n",
       " [3.0, 1.0, 3.0, 2.0, 2.0, 2.0, 3.0, 1.0, 0.0, 1.0],\n",
       " [1.0, 3.0, 2.0, 1.0, 3.0, 3.0, 3.0, 1.0, 1.0, 0.0]]"
      ]
     },
     "execution_count": 16,
     "metadata": {},
     "output_type": "execute_result"
    }
   ],
   "source": [
    "with open('distances.txt', 'r') as file:\n",
    "    distances = [list(map(float, line.split())) for line in file]\n",
    "distances"
   ]
  },
  {
   "cell_type": "code",
   "execution_count": 18,
   "id": "6095c729",
   "metadata": {},
   "outputs": [
    {
     "data": {
      "text/plain": [
       "[{'total_dist': 7.0, 'start': 'A', 'end': 'B'},\n",
       " {'total_dist': 3.0, 'start': 'B', 'end': 'A'},\n",
       " {'total_dist': 4.0, 'start': 'C', 'end': 'D'},\n",
       " {'total_dist': 9.0, 'start': 'D', 'end': 'C'},\n",
       " {'total_dist': 3.0, 'start': 'E', 'end': 'C'},\n",
       " {'total_dist': 2.0, 'start': 'H', 'end': 'F'},\n",
       " {'total_dist': 5.0, 'start': 'A', 'end': 'E'},\n",
       " {'total_dist': 5.0, 'start': 'B', 'end': 'C'},\n",
       " {'total_dist': 4.0, 'start': 'C', 'end': 'H'},\n",
       " {'total_dist': 9.0, 'start': 'F', 'end': 'E'},\n",
       " {'total_dist': 2.0, 'start': 'A', 'end': 'C'},\n",
       " {'total_dist': 2.0, 'start': 'A', 'end': 'F'},\n",
       " {'total_dist': 5.0, 'start': 'B', 'end': 'D'},\n",
       " {'total_dist': 5.0, 'start': 'G', 'end': 'E'},\n",
       " {'total_dist': 2.0, 'start': 'B', 'end': 'G'}]"
      ]
     },
     "execution_count": 18,
     "metadata": {},
     "output_type": "execute_result"
    }
   ],
   "source": [
    "paths = []\n",
    "with open('paths.txt', 'r') as file:\n",
    "    for line in file:\n",
    "        path = line.strip().split(': ')[1].split('-')\n",
    "        start = path[0]\n",
    "        end = path[-1]\n",
    "        total_dist = 0\n",
    "        for el in range(len(path)-1):\n",
    "            dest = path[el + 1]\n",
    "            source = path[el] \n",
    "            total_dist += distances[node_no[source]][node_no[dest]]\n",
    "        paths.append({'total_dist':total_dist, 'start':start, 'end': end})\n",
    "        \n",
    "paths\n",
    "\n"
   ]
  },
  {
   "cell_type": "code",
   "execution_count": null,
   "id": "adf850b1",
   "metadata": {},
   "outputs": [],
   "source": [
    "#parameters\n",
    "\n",
    "#depot station nodes\n",
    "c_k = ['X', 'Y']\n",
    "\n",
    "#station nodes\n",
    "n_i = ['A', 'B', 'C', 'D', 'E', 'F', 'G', 'H']\n",
    "\n",
    "#distances between nodes\n",
    "#read from file distances.txt\n",
    "d_i_j = []\n",
    "\n",
    "#distances between depot nodes and other nodes\n",
    "#read from file depot_node_distances.txt\n",
    "dc_k_i = []\n",
    "\n",
    "#decision variables\n",
    "\n",
    "#train i assigned to depot j starts the route from j to k, where k is node\n",
    "x_i_j_k = []\n",
    "\n",
    "#x_i_j_k binary such that 1 if i assigned to j and starts the route from j to k, 0 o.w.\n",
    "\n",
    "#constraints\n",
    "\n",
    "#x_i_j_k sum over j & k = 1\n",
    "#x_i_j_k sum over i & k >= 5\n",
    "\n",
    "\n"
   ]
  }
 ],
 "metadata": {
  "kernelspec": {
   "display_name": "Python 3 (ipykernel)",
   "language": "python",
   "name": "python3"
  },
  "language_info": {
   "codemirror_mode": {
    "name": "ipython",
    "version": 3
   },
   "file_extension": ".py",
   "mimetype": "text/x-python",
   "name": "python",
   "nbconvert_exporter": "python",
   "pygments_lexer": "ipython3",
   "version": "3.11.5"
  }
 },
 "nbformat": 4,
 "nbformat_minor": 5
}

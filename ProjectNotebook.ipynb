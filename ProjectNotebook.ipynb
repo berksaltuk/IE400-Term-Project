{
 "cells": [
  {
   "cell_type": "markdown",
   "id": "71f784e5",
   "metadata": {},
   "source": [
    "# Part 1"
   ]
  },
  {
   "cell_type": "code",
   "execution_count": 15,
   "id": "00e2fb7a",
   "metadata": {
    "tags": []
   },
   "outputs": [],
   "source": [
    "from gurobipy import *\n",
    "\n",
    "import numpy as np"
   ]
  },
  {
   "cell_type": "code",
   "execution_count": 16,
   "id": "6e0aeba2",
   "metadata": {
    "tags": []
   },
   "outputs": [],
   "source": [
    "node_no = {\n",
    "    'A':0, 'B':1, 'C':2, 'D':3, 'E':4, 'F':5, 'G':6, 'H':7\n",
    "}"
   ]
  },
  {
   "cell_type": "code",
   "execution_count": 17,
   "id": "df4e1e29",
   "metadata": {
    "tags": []
   },
   "outputs": [],
   "source": [
    "with open('distances.txt', 'r') as file:\n",
    "    distances = [list(map(float, line.split())) for line in file]"
   ]
  },
  {
   "cell_type": "code",
   "execution_count": 18,
   "id": "6095c729",
   "metadata": {
    "tags": []
   },
   "outputs": [],
   "source": [
    "paths = []\n",
    "with open('paths.txt', 'r') as file:\n",
    "    for line in file:\n",
    "        at_node = {}\n",
    "        path = line.strip().split(': ')[1].split('-')\n",
    "        actual_path = []\n",
    "        start = node_no[path[0]]\n",
    "        end = node_no[path[-1]]\n",
    "        total_dist = 0\n",
    "        at_node[0] = path[0]\n",
    "        for el in range(len(path)-1):\n",
    "            dest = path[el + 1]\n",
    "            source = path[el] \n",
    "            \n",
    "            total_dist += distances[node_no[source]][node_no[dest]]\n",
    "            at_node[total_dist] = path[el+1]\n",
    "        paths.append({'total_dist':total_dist, 'start':start, 'end': end, 'actual_path':path, 'arrival_times':at_node})"
   ]
  },
  {
   "cell_type": "code",
   "execution_count": 19,
   "id": "ad567e19",
   "metadata": {
    "tags": []
   },
   "outputs": [],
   "source": [
    "starts_with = {}\n",
    "for i in range(15):\n",
    "    for j in range(8):\n",
    "        starts_with[i, j] = 1 if paths[i]['start'] == j else 0"
   ]
  },
  {
   "cell_type": "code",
   "execution_count": 20,
   "id": "fc4a4462",
   "metadata": {
    "tags": []
   },
   "outputs": [],
   "source": [
    "distances_to_depots = []\n",
    "with open('depot_node_distances.txt', 'r') as file:\n",
    "    for line in file:\n",
    "        distances_to_depots.append([int(x) for x in line.strip().split(': ')[1].split('-')])\n"
   ]
  },
  {
   "cell_type": "code",
   "execution_count": 21,
   "id": "088fbf24",
   "metadata": {
    "tags": []
   },
   "outputs": [],
   "source": [
    "depot_no = {\n",
    "    'X':0, 'Y':1\n",
    "}"
   ]
  },
  {
   "cell_type": "code",
   "execution_count": 22,
   "id": "2d1232e6",
   "metadata": {
    "tags": []
   },
   "outputs": [],
   "source": [
    "odd_even = {}\n",
    "\n",
    "for i in range(len(paths)):\n",
    "        for j in range(2):\n",
    "            time = 20\n",
    "            #for X depot\n",
    "            time -= distances_to_depots[j][paths[i]['start']]\n",
    "            tour = 0\n",
    "            while(time > paths[i]['total_dist']):\n",
    "                time -= paths[i]['total_dist']\n",
    "                tour += 1\n",
    "            if tour % 2 == 0: #even number of tours\n",
    "                time -= distances_to_depots[j][paths[i]['start']]\n",
    "                if time >= 0:\n",
    "                    #print(\"success! begin and end nodes are same for route\")\n",
    "                    odd_even[i, j] = 1\n",
    "                else:\n",
    "                    time += paths[i]['total_dist']\n",
    "                    tour -= 1\n",
    "                    odd_even[i, j] = 0\n",
    "\n",
    "                    #print(\"you need to take one less tour, sorry, ODDIZED\")\n",
    "            else: #odd number of tours\n",
    "                time -= distances_to_depots[j][paths[i]['end']]\n",
    "                if time >= 0:\n",
    "                    #print(\"success! begin and end nodes are not same for route\")\n",
    "                    odd_even[i, j] = 0\n",
    "                else:\n",
    "                    time = time + paths[i]['total_dist']\n",
    "                    tour -= 1\n",
    "                    odd_even[i, j] = 1\n",
    "                    #print(\"you need to take one less tour, sorry , EVENIZED\")\n",
    "            paths[i][f'tours_taken_{\"X\" if j == 0 else \"Y\"}'] = tour\n",
    "            "
   ]
  },
  {
   "cell_type": "code",
   "execution_count": 23,
   "id": "213b7e76",
   "metadata": {
    "tags": []
   },
   "outputs": [
    {
     "name": "stdout",
     "output_type": "stream",
     "text": [
      "Gurobi Optimizer version 11.0.0 build v11.0.0rc2 (mac64[arm] - Darwin 22.4.0 22E252)\n",
      "\n",
      "CPU model: Apple M2 Pro\n",
      "Thread count: 10 physical cores, 10 logical processors, using up to 10 threads\n",
      "\n",
      "Optimize a model with 33 rows, 30 columns and 90 nonzeros\n",
      "Model fingerprint: 0x5c5126fd\n",
      "Variable types: 0 continuous, 30 integer (30 binary)\n",
      "Coefficient statistics:\n",
      "  Matrix range     [1e+00, 1e+00]\n",
      "  Objective range  [2e+00, 6e+00]\n",
      "  Bounds range     [1e+00, 1e+00]\n",
      "  RHS range        [1e+00, 5e+00]\n",
      "Found heuristic solution: objective 48.0000000\n",
      "Presolve removed 27 rows and 18 columns\n",
      "Presolve time: 0.00s\n",
      "Presolved: 6 rows, 12 columns, 38 nonzeros\n",
      "Variable types: 0 continuous, 12 integer (9 binary)\n",
      "Found heuristic solution: objective 34.0000000\n",
      "\n",
      "Root relaxation: objective 3.300000e+01, 0 iterations, 0.00 seconds (0.00 work units)\n",
      "\n",
      "    Nodes    |    Current Node    |     Objective Bounds      |     Work\n",
      " Expl Unexpl |  Obj  Depth IntInf | Incumbent    BestBd   Gap | It/Node Time\n",
      "\n",
      "*    0     0               0      33.0000000   33.00000  0.00%     -    0s\n",
      "\n",
      "Explored 1 nodes (0 simplex iterations) in 0.01 seconds (0.00 work units)\n",
      "Thread count was 10 (of 10 available processors)\n",
      "\n",
      "Solution count 3: 33 34 48 \n",
      "\n",
      "Optimal solution found (tolerance 1.00e-04)\n",
      "Best objective 3.300000000000e+01, best bound 3.300000000000e+01, gap 0.0000%\n"
     ]
    }
   ],
   "source": [
    "X = {}\n",
    "model = Model('Part1_model')\n",
    "\n",
    "for i in range(1,16):\n",
    "    for j in ['X','Y']:\n",
    "            X[i,j] = model.addVar(vtype = GRB.BINARY,name=f'x_{i}_{j}')\n",
    "\n",
    "#Constraints\n",
    "#Trains assigned to deport j starts from node k\n",
    "for i in range(1,16):\n",
    "    model.addConstr(quicksum(X[i,j] for j in ['X','Y']) == 1)\n",
    "     \n",
    "# X -> A - max 3        \n",
    "#A route cannot be used more than 3 trains\n",
    "for j in ['X','Y']:\n",
    "    for k in range(0,8):\n",
    "        model.addConstr(quicksum(starts_with[i-1,k]*X[i,j] for i in range(1,16)) <= 3)\n",
    "        \n",
    "#Each depot shpuld have at least 5 trains assigned to it\n",
    "for j in ['X','Y']:\n",
    "    model.addConstr(quicksum(X[i,j] for i in range(1,16)) >= 5)\n",
    "        \n",
    "#Every train should have only one starting node\n",
    "#for k in range(1,9):\n",
    "#    model.addConstr(quicksum(X[i,j,k] for i in range(1,16) for j in ['X','Y']) == 1)\n",
    "\n",
    "\n",
    "objective_func = quicksum((1 + odd_even[i - 1, depot_no[j]]) * X[i,j] * distances_to_depots[depot_no[j]][paths[i-1]['start']] + \n",
    "                          (1 - odd_even[i - 1, depot_no[j]]) * X[i,j] * distances_to_depots[depot_no[j]][paths[i-1]['end']] \n",
    "                          for i in range(1,16) for j in ['X', 'Y'])\n",
    "model.setObjective(objective_func, GRB.MINIMIZE)\n",
    "\n",
    "model.optimize()"
   ]
  },
  {
   "cell_type": "code",
   "execution_count": 24,
   "id": "f20146cb",
   "metadata": {
    "tags": []
   },
   "outputs": [
    {
     "name": "stdout",
     "output_type": "stream",
     "text": [
      "Depot X assigned trains: [1, 2, 6, 8, 9, 11, 12, 15]\n",
      "Depot Y assigned trains: [3, 4, 5, 7, 10, 13, 14]\n"
     ]
    }
   ],
   "source": [
    "assigned = {}\n",
    "for j in ['X', 'Y']:\n",
    "    assigned_trains = [i for i in range(1, 16) if X[i, j].X > 0.5]\n",
    "    assigned[j] = assigned_trains\n",
    "    print(f\"Depot {j} assigned trains: {assigned_trains}\")"
   ]
  },
  {
   "cell_type": "markdown",
   "id": "7c50c7d7",
   "metadata": {},
   "source": [
    "# Part 2"
   ]
  },
  {
   "cell_type": "code",
   "execution_count": 26,
   "id": "d7487e18",
   "metadata": {
    "tags": []
   },
   "outputs": [],
   "source": [
    "for i in assigned['X']:    \n",
    "    paths[i-1].pop('tours_taken_Y', None)\n",
    "for i in assigned['Y']:    \n",
    "    paths[i-1].pop('tours_taken_X', None)\n",
    "    "
   ]
  },
  {
   "cell_type": "code",
   "execution_count": 45,
   "id": "54fff07d",
   "metadata": {
    "tags": []
   },
   "outputs": [],
   "source": [
    "for i in range(len(paths)):\n",
    "    arr_times = paths[i]['arrival_times']\n",
    "    start_depot = 0 if 'tours_taken_X' in paths[i] else 1\n",
    "    first_dis = distances_to_depots[start_depot][paths[i]['start']]\n",
    "    \n",
    "    tours = paths[i]['tours_taken_X'] if 'tours_taken_X' in paths[i] else paths[i]['tours_taken_Y']\n",
    "    \n",
    "    actual_path = paths[i]['actual_path']\n",
    "    \n",
    "    new_path = actual_path\n",
    "    for j in range(tours-1):\n",
    "        if j % 2 == 0:\n",
    "            new_path = new_path + actual_path[::-1][1:]\n",
    "        else:\n",
    "            new_path = new_path + actual_path[1:]\n",
    "    \n",
    "    arr_times_new = {}\n",
    "    arr_times_new[0] = 'X' if start_depot == 0 else 'Y'\n",
    "    \n",
    "    first_dis = distances_to_depots[start_depot][paths[i]['start']]\n",
    "    \n",
    "    total_dist = 0\n",
    "    arr_times_new[first_dis] = new_path[0]\n",
    "    \n",
    "    for el in range(len(new_path)-1):\n",
    "            dest = new_path[el + 1]\n",
    "            source = new_path[el] \n",
    "            \n",
    "            total_dist += distances[node_no[source]][node_no[dest]]\n",
    "            arr_times_new[total_dist + first_dis] = new_path[el+1]\n",
    "    if(odd_even[i, start_depot] == 1):\n",
    "        arr_times_new[total_dist + 2 * first_dis] = 'X' if start_depot == 0 else 'Y'\n",
    "    else:\n",
    "        arr_times_new[total_dist + first_dis + distances_to_depots[start_depot][paths[i]['end']]] = 'X' if start_depot == 0 else 'Y'\n",
    "    \n",
    "    total_dur = list(arr_times_new)[-1]\n",
    "    for k in range(25):\n",
    "        if k not in arr_times_new:\n",
    "            arr_times_new[k] = 'OW' # On way\n",
    "        if k > total_dur or k > 20:\n",
    "            arr_times_new[k] = 'MA' # Maintenance \n",
    "    \n",
    "    # 21: 'MA' means maintenance from 20 to 21        \n",
    "    paths[i]['train_locs'] = dict(sorted(arr_times_new.items()))\n",
    "    paths[i]['path_after_tours'] = new_path\n",
    "    paths[i]['total_operation_time'] = total_dur"
   ]
  },
  {
   "cell_type": "code",
   "execution_count": 36,
   "id": "c0b2a2d3",
   "metadata": {
    "tags": []
   },
   "outputs": [],
   "source": [
    "#read parameters.txt\n",
    "other_params = {}\n",
    "\n",
    "with open('parameters.txt', 'r') as file:\n",
    "    for line in file:\n",
    "        other_params[line.strip().split(': ')[0]] = int(line.strip().split(': ')[1].split(\"$\")[0].replace(\",\", \"\"))\n"
   ]
  },
  {
   "cell_type": "code",
   "execution_count": 37,
   "id": "7bc6566c",
   "metadata": {
    "tags": []
   },
   "outputs": [
    {
     "data": {
      "text/plain": [
       "{'Cost of In-Depot Charging Station': 1000000,\n",
       " 'Cost of On-Route Charging Station': 350000,\n",
       " 'Cost of In-Depot Fuel Station': 800000,\n",
       " 'Cost of Purchasing an Electric Train': 750000,\n",
       " 'Cost of Purchasing a Diesel Train': 250000,\n",
       " 'Cost of Energy Spend by Diesel Train (by working hour)': 100000,\n",
       " 'Cost of Energy Spend by Electric Train (by working hour)': 20000}"
      ]
     },
     "execution_count": 37,
     "metadata": {},
     "output_type": "execute_result"
    }
   ],
   "source": [
    "other_params"
   ]
  },
  {
   "cell_type": "code",
   "execution_count": 48,
   "id": "c3d56fbc",
   "metadata": {
    "tags": []
   },
   "outputs": [
    {
     "name": "stdout",
     "output_type": "stream",
     "text": [
      "Gurobi Optimizer version 11.0.0 build v11.0.0rc2 (mac64[arm] - Darwin 22.4.0 22E252)\n",
      "\n",
      "CPU model: Apple M2 Pro\n",
      "Thread count: 10 physical cores, 10 logical processors, using up to 10 threads\n",
      "\n",
      "Optimize a model with 28 rows, 42 columns and 72 nonzeros\n",
      "Model fingerprint: 0x4909997e\n",
      "Variable types: 0 continuous, 42 integer (30 binary)\n",
      "Coefficient statistics:\n",
      "  Matrix range     [1e+00, 1e+00]\n",
      "  Objective range  [4e+05, 2e+06]\n",
      "  Bounds range     [1e+00, 1e+00]\n",
      "  RHS range        [1e+00, 2e+01]\n",
      "Found heuristic solution: objective 2.107000e+07\n",
      "Presolve removed 28 rows and 42 columns\n",
      "Presolve time: 0.00s\n",
      "Presolve: All rows and columns removed\n",
      "\n",
      "Explored 0 nodes (0 simplex iterations) in 0.00 seconds (0.00 work units)\n",
      "Thread count was 1 (of 10 available processors)\n",
      "\n",
      "Solution count 2: 1.683e+07 2.107e+07 \n",
      "\n",
      "Optimal solution found (tolerance 1.00e-04)\n",
      "Best objective 1.683000000000e+07, best bound 1.683000000000e+07, gap 0.0000%\n"
     ]
    }
   ],
   "source": [
    "Y = {}\n",
    "I = {}\n",
    "O = {}\n",
    "F = {}\n",
    "model2 = Model('Part2_model')\n",
    "\n",
    "#Y_i_j Is train i type j, 'E'lectric or 'D'iesel\n",
    "for i in range(1,16):\n",
    "    for j in ['E','D']:\n",
    "            Y[i,j] = model2.addVar(vtype = GRB.BINARY,name=f'y_{i}_{j}')\n",
    "\n",
    "# I_i: number of in depot charging station built at depot i\n",
    "for i in ['X', 'Y']:\n",
    "    I[i] = model2.addVar(vtype = GRB.INTEGER, name=f'I_{i}')\n",
    "    \n",
    "# F_i: number of in depot fueling station built at depot i\n",
    "for i in ['X', 'Y']:\n",
    "    F[i] = model2.addVar(vtype = GRB.INTEGER, name=f'F_{i}')\n",
    "\n",
    "# O_i: number of on-route charging station built at station i\n",
    "for i in range(1,9):\n",
    "    O[i] = model2.addVar(vtype = GRB.INTEGER, name=f'O_{i}')\n",
    "\n",
    "# C_i_j: 1 if train i is charged at on-route station j, should I add hour to this variable?\n",
    "\n",
    "\n",
    "# Constraints\n",
    "\n",
    "# Y_i_j total must be equal to 15\n",
    "# capacity constraints\n",
    "\n",
    "#Constraints\n",
    "\n",
    "#total train number should be 15\n",
    "model2.addConstr(quicksum(Y[i,j] for i in range(1,16) for j in ['E','D']) == 15)\n",
    "\n",
    "#a train can be either E or D\n",
    "for i in range(1,16):\n",
    "    model2.addConstr((Y[i, 'E'] + Y[i, 'D']) == 1)\n",
    "\n",
    "#number of charging & fueling stations must be positive integers\n",
    "for i in ['X', 'Y']:\n",
    "    model2.addConstr(F[i] >= 0)\n",
    "    \n",
    "for i in ['X', 'Y']:\n",
    "    model2.addConstr(I[i] >= 0)\n",
    "\n",
    "for i in range(1,9):\n",
    "    model2.addConstr(O[i] >= 0)\n",
    "\n",
    "# minimize cost: total hours of operation based on train type + no of diesel & electric trains bought + number of fuel&charge stations, objective func\n",
    "fueling_station_cost = quicksum(other_params[\"Cost of In-Depot Fuel Station\"]*F[i] for i in ['X', 'Y'])\n",
    "in_depot_ch_cost = quicksum(other_params[\"Cost of In-Depot Charging Station\"]*I[i] for i in ['X', 'Y'])\n",
    "on_route_ch_cost = quicksum(other_params[\"Cost of On-Route Charging Station\"]*O[i] for i in range(1,9))\n",
    "\n",
    "train_cost = quicksum(other_params[\"Cost of Purchasing an Electric Train\"]*Y[i,'E'] \n",
    "                      + other_params[\"Cost of Purchasing a Diesel Train\"]*Y[i,'D'] \n",
    "                     for i in range(1,16))\n",
    "\n",
    "# energy spent by each train\n",
    "energy_cost = quicksum(other_params[\"Cost of Energy Spend by Diesel Train (by working hour)\"]*paths[i-1]['total_operation_time']*Y[i,'D'] \n",
    "+ other_params[\"Cost of Energy Spend by Electric Train (by working hour)\"]*paths[i-1]['total_operation_time']*Y[i,'E'] for i in range(1,16))\n",
    "\n",
    "objective_func = fueling_station_cost + in_depot_ch_cost + on_route_ch_cost + train_cost + energy_cost\n",
    "\n",
    "model2.setObjective(objective_func, GRB.MINIMIZE)\n",
    "\n",
    "model2.optimize()"
   ]
  },
  {
   "cell_type": "code",
   "execution_count": null,
   "id": "d05e4d93-3b41-4b09-8310-0dd2fabce05e",
   "metadata": {},
   "outputs": [],
   "source": []
  }
 ],
 "metadata": {
  "kernelspec": {
   "display_name": "Python 3 (ipykernel)",
   "language": "python",
   "name": "python3"
  },
  "language_info": {
   "codemirror_mode": {
    "name": "ipython",
    "version": 3
   },
   "file_extension": ".py",
   "mimetype": "text/x-python",
   "name": "python",
   "nbconvert_exporter": "python",
   "pygments_lexer": "ipython3",
   "version": "3.11.5"
  }
 },
 "nbformat": 4,
 "nbformat_minor": 5
}
